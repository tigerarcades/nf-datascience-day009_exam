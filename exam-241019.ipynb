{
 "cells": [
  {
   "cell_type": "markdown",
   "metadata": {},
   "source": [
    "# Exam 241019"
   ]
  },
  {
   "cell_type": "markdown",
   "metadata": {},
   "source": [
    "1. Linear Regression is a supervised machine learning algorithm?\n",
    "> True"
   ]
  },
  {
   "cell_type": "markdown",
   "metadata": {},
   "source": [
    "2. Which method do we use the to find best fit for data in linear regresion?\n",
    "  - least squared error\n",
    "  - maximum likehood\n",
    "  - logarithmic loss\n",
    "  - #1 and #2\n",
    "> 1, 3"
   ]
  },
  {
   "cell_type": "markdown",
   "metadata": {},
   "source": [
    "3. Which of the following is `true` for reciduals?\n",
    "  - Lower is better\n",
    "  - Higher is better\n",
    "  - A or B, depending on the situation\n",
    "  - None of these\n",
    "> #3"
   ]
  },
  {
   "cell_type": "markdown",
   "metadata": {},
   "source": [
    "4. What will happen when you fit degree to polynomial in linear regression?\n",
    "  - This is a guess: a simplification of the model"
   ]
  },
  {
   "cell_type": "markdown",
   "metadata": {},
   "source": [
    "5. Is it possible a \"Linear Regression\" using a neural network\n",
    "> Yes"
   ]
  },
  {
   "cell_type": "markdown",
   "metadata": {},
   "source": [
    "6. Which of the following evaluation metrics can be used to evaluate a model, while modelling a contiuous output varibale?\n",
    "  - AUC-ROC\n",
    "  - Accuracy\n",
    "  - LogLoss\n",
    "  - MSE (Mean Squared Error)\n",
    "> MSE, LogLoss"
   ]
  },
  {
   "cell_type": "markdown",
   "metadata": {},
   "source": [
    "7. Which of the following statements is true about outliers in \"Linear Regression\"?\n",
    "  - Linear Regression is sensitive to outliers\n",
    "  - It is not sensitive to outliers\n",
    "  - Can't say\n",
    "  - None of those\n",
    "> a) It is sensitive to outliers when testing the model's error rate"
   ]
  },
  {
   "cell_type": "markdown",
   "metadata": {},
   "source": [
    "8. Suppose you plotted a \"scatter plot\" between the reciduals and predicted values in linear regression and you found, that there is a relationship between them, what does that mean\n",
    "  - Since there is a relationship, model is not good\n",
    "  - Since there is a relationship, model is good\n",
    "  - Can't say\n",
    "  - None of these\n",
    "> a)"
   ]
  },
  {
   "cell_type": "markdown",
   "metadata": {},
   "source": [
    "9) Suppose we have `N {x1, ..., xn}` indpendent variables and depending variable is `y`, imaging we are applying linear regression by fitting the best fit line using least squared error on this data, we found that correlation coefficient for for of its variables `{x1}` with is equal to 0.95, which of the following and true?\n",
    "  - relation between x and y is weak\n",
    "  - relation between x and y is strong\n",
    "  - relation between x and y is neutral\n",
    "  - correlation can not judge the relationship\n",
    "> d) From this general stated question it is hard to judge if there is a strong relationship or not."
   ]
  },
  {
   "cell_type": "markdown",
   "metadata": {},
   "source": [
    "10) Suppose we have a dataset D1 and we design a linear regression model of degree 3 polynomial and we find that the training and testing error is zero, or in other terms: it totally fits the data. What will happen if we fit a degree 4 polynomial into Lin Reg.\n",
    "  - High chances that degree 4 polynomial will overfit\n",
    "  - High chances that degree 4 polynomial will underfit\n",
    "  - None of these\n",
    "  - Can't say\n",
    "> a) High chances that degree 4 polynomial will overfit"
   ]
  }
 ],
 "metadata": {
  "kernelspec": {
   "display_name": "Python [conda env:nf] *",
   "language": "python",
   "name": "conda-env-nf-py"
  },
  "language_info": {
   "codemirror_mode": {
    "name": "ipython",
    "version": 3
   },
   "file_extension": ".py",
   "mimetype": "text/x-python",
   "name": "python",
   "nbconvert_exporter": "python",
   "pygments_lexer": "ipython3",
   "version": "3.6.6"
  }
 },
 "nbformat": 4,
 "nbformat_minor": 2
}
